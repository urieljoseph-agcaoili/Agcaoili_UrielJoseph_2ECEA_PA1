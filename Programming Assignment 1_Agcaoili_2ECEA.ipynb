{
 "cells": [
  {
   "cell_type": "markdown",
   "id": "3b169c3b-2bef-4d50-8fb4-a748c6cd1acc",
   "metadata": {},
   "source": [
    "<b>PROGRAMMING ASSIGNMENT#1"
   ]
  },
  {
   "cell_type": "markdown",
   "id": "f692a012-96f5-4205-affa-372572147f9d",
   "metadata": {},
   "source": [
    "Alphabet Soup Problem"
   ]
  },
  {
   "cell_type": "code",
   "execution_count": 1,
   "id": "aaae9729-059d-4d63-9e09-26f909eb2f74",
   "metadata": {},
   "outputs": [
    {
     "name": "stdin",
     "output_type": "stream",
     "text": [
      "Enter your word:  hacking\n"
     ]
    },
    {
     "data": {
      "text/plain": [
       "'acghikn'"
      ]
     },
     "execution_count": 1,
     "metadata": {},
     "output_type": "execute_result"
    }
   ],
   "source": [
    "s = input(\"Enter your word: \")\n",
    "\n",
    "def alphabet_soup(s):\n",
    "    return ''.join(sorted(s))\n",
    "\n",
    "alphabet_soup(s)"
   ]
  },
  {
   "cell_type": "markdown",
   "id": "33e383dd-8c39-4c36-a83a-5ca9ead17612",
   "metadata": {},
   "source": [
    "Emoticon Problem"
   ]
  },
  {
   "cell_type": "code",
   "execution_count": 3,
   "id": "a748df59-cfa0-4f30-9e63-5d1ab75bab4d",
   "metadata": {},
   "outputs": [
    {
     "name": "stdin",
     "output_type": "stream",
     "text": [
      "Enter the sentence to emotify: you make me sad\n"
     ]
    },
    {
     "data": {
      "text/plain": [
       "'you make me :('"
      ]
     },
     "execution_count": 3,
     "metadata": {},
     "output_type": "execute_result"
    }
   ],
   "source": [
    "s = input(\"Enter the sentence to emotify:\")\n",
    "\n",
    "def emotify_sentence(sentence):\n",
    "    sentence = sentence.replace(\"smile\", \":)\")\n",
    "    sentence = sentence.replace(\"grin\", \":D\")\n",
    "    sentence = sentence.replace(\"sad\", \":(\")\n",
    "    sentence = sentence.replace(\"mad\", \">:(\")\n",
    "    return sentence\n",
    "\n",
    "emotify_sentence(s)"
   ]
  },
  {
   "cell_type": "markdown",
   "id": "f8c35d69-c225-4a3d-8197-37930f49c1dd",
   "metadata": {},
   "source": [
    "Unpacking List Problem"
   ]
  },
  {
   "cell_type": "code",
   "execution_count": 5,
   "id": "d47b24c2-05ba-4e12-a79b-59611760c5ec",
   "metadata": {},
   "outputs": [
    {
     "name": "stdout",
     "output_type": "stream",
     "text": [
      "First: 1\n",
      "Middle: [2, 3, 4, 5, 6, 9]\n",
      "Last: 30\n"
     ]
    }
   ],
   "source": [
    "writeyourcodehere = [1, 2, 3, 4, 5, 6, 9, 30]\n",
    "\n",
    "first = writeyourcodehere[0]\n",
    "last = writeyourcodehere[-1]\n",
    "middle = writeyourcodehere[1:-1]\n",
    "\n",
    "print(\"First:\", first)\n",
    "print(\"Middle:\", middle)\n",
    "print(\"Last:\", last)"
   ]
  }
 ],
 "metadata": {
  "kernelspec": {
   "display_name": "Python [conda env:base] *",
   "language": "python",
   "name": "conda-base-py"
  },
  "language_info": {
   "codemirror_mode": {
    "name": "ipython",
    "version": 3
   },
   "file_extension": ".py",
   "mimetype": "text/x-python",
   "name": "python",
   "nbconvert_exporter": "python",
   "pygments_lexer": "ipython3",
   "version": "3.13.5"
  }
 },
 "nbformat": 4,
 "nbformat_minor": 5
}
